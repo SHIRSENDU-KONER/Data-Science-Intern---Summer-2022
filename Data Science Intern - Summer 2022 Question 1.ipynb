{
 "cells": [
  {
   "cell_type": "markdown",
   "id": "a8fa47e1",
   "metadata": {},
   "source": [
    "# Data Science Intern - Summer 2022"
   ]
  },
  {
   "cell_type": "markdown",
   "id": "e7a1ccc6",
   "metadata": {},
   "source": [
    "----\n",
    "### Candidate Name : SHIRSENDU KONER\n",
    "----"
   ]
  },
  {
   "cell_type": "code",
   "execution_count": 1,
   "id": "fbf7d895",
   "metadata": {},
   "outputs": [],
   "source": [
    "# importing required libraries\n",
    "import pandas as pd\n",
    "import numpy as np\n",
    "import matplotlib.pyplot as plt\n",
    "%matplotlib inline"
   ]
  },
  {
   "cell_type": "code",
   "execution_count": 2,
   "id": "cb31145b",
   "metadata": {},
   "outputs": [],
   "source": [
    "# importing the dataset\n",
    "dataset = pd.read_csv('2019 Winter Data Science Intern Challenge Data Set - Sheet1.csv')"
   ]
  },
  {
   "cell_type": "code",
   "execution_count": 3,
   "id": "959b463e",
   "metadata": {},
   "outputs": [
    {
     "data": {
      "text/html": [
       "<div>\n",
       "<style scoped>\n",
       "    .dataframe tbody tr th:only-of-type {\n",
       "        vertical-align: middle;\n",
       "    }\n",
       "\n",
       "    .dataframe tbody tr th {\n",
       "        vertical-align: top;\n",
       "    }\n",
       "\n",
       "    .dataframe thead th {\n",
       "        text-align: right;\n",
       "    }\n",
       "</style>\n",
       "<table border=\"1\" class=\"dataframe\">\n",
       "  <thead>\n",
       "    <tr style=\"text-align: right;\">\n",
       "      <th></th>\n",
       "      <th>order_id</th>\n",
       "      <th>shop_id</th>\n",
       "      <th>user_id</th>\n",
       "      <th>order_amount</th>\n",
       "      <th>total_items</th>\n",
       "      <th>payment_method</th>\n",
       "      <th>created_at</th>\n",
       "    </tr>\n",
       "  </thead>\n",
       "  <tbody>\n",
       "    <tr>\n",
       "      <th>0</th>\n",
       "      <td>1</td>\n",
       "      <td>53</td>\n",
       "      <td>746</td>\n",
       "      <td>224</td>\n",
       "      <td>2</td>\n",
       "      <td>cash</td>\n",
       "      <td>2017-03-13 12:36:56</td>\n",
       "    </tr>\n",
       "    <tr>\n",
       "      <th>1</th>\n",
       "      <td>2</td>\n",
       "      <td>92</td>\n",
       "      <td>925</td>\n",
       "      <td>90</td>\n",
       "      <td>1</td>\n",
       "      <td>cash</td>\n",
       "      <td>2017-03-03 17:38:52</td>\n",
       "    </tr>\n",
       "    <tr>\n",
       "      <th>2</th>\n",
       "      <td>3</td>\n",
       "      <td>44</td>\n",
       "      <td>861</td>\n",
       "      <td>144</td>\n",
       "      <td>1</td>\n",
       "      <td>cash</td>\n",
       "      <td>2017-03-14 4:23:56</td>\n",
       "    </tr>\n",
       "    <tr>\n",
       "      <th>3</th>\n",
       "      <td>4</td>\n",
       "      <td>18</td>\n",
       "      <td>935</td>\n",
       "      <td>156</td>\n",
       "      <td>1</td>\n",
       "      <td>credit_card</td>\n",
       "      <td>2017-03-26 12:43:37</td>\n",
       "    </tr>\n",
       "    <tr>\n",
       "      <th>4</th>\n",
       "      <td>5</td>\n",
       "      <td>18</td>\n",
       "      <td>883</td>\n",
       "      <td>156</td>\n",
       "      <td>1</td>\n",
       "      <td>credit_card</td>\n",
       "      <td>2017-03-01 4:35:11</td>\n",
       "    </tr>\n",
       "    <tr>\n",
       "      <th>5</th>\n",
       "      <td>6</td>\n",
       "      <td>58</td>\n",
       "      <td>882</td>\n",
       "      <td>138</td>\n",
       "      <td>1</td>\n",
       "      <td>credit_card</td>\n",
       "      <td>2017-03-14 15:25:01</td>\n",
       "    </tr>\n",
       "    <tr>\n",
       "      <th>6</th>\n",
       "      <td>7</td>\n",
       "      <td>87</td>\n",
       "      <td>915</td>\n",
       "      <td>149</td>\n",
       "      <td>1</td>\n",
       "      <td>cash</td>\n",
       "      <td>2017-03-01 21:37:57</td>\n",
       "    </tr>\n",
       "    <tr>\n",
       "      <th>7</th>\n",
       "      <td>8</td>\n",
       "      <td>22</td>\n",
       "      <td>761</td>\n",
       "      <td>292</td>\n",
       "      <td>2</td>\n",
       "      <td>cash</td>\n",
       "      <td>2017-03-08 2:05:38</td>\n",
       "    </tr>\n",
       "    <tr>\n",
       "      <th>8</th>\n",
       "      <td>9</td>\n",
       "      <td>64</td>\n",
       "      <td>914</td>\n",
       "      <td>266</td>\n",
       "      <td>2</td>\n",
       "      <td>debit</td>\n",
       "      <td>2017-03-17 20:56:50</td>\n",
       "    </tr>\n",
       "    <tr>\n",
       "      <th>9</th>\n",
       "      <td>10</td>\n",
       "      <td>52</td>\n",
       "      <td>788</td>\n",
       "      <td>146</td>\n",
       "      <td>1</td>\n",
       "      <td>credit_card</td>\n",
       "      <td>2017-03-30 21:08:26</td>\n",
       "    </tr>\n",
       "  </tbody>\n",
       "</table>\n",
       "</div>"
      ],
      "text/plain": [
       "   order_id  shop_id  user_id  order_amount  total_items payment_method  \\\n",
       "0         1       53      746           224            2           cash   \n",
       "1         2       92      925            90            1           cash   \n",
       "2         3       44      861           144            1           cash   \n",
       "3         4       18      935           156            1    credit_card   \n",
       "4         5       18      883           156            1    credit_card   \n",
       "5         6       58      882           138            1    credit_card   \n",
       "6         7       87      915           149            1           cash   \n",
       "7         8       22      761           292            2           cash   \n",
       "8         9       64      914           266            2          debit   \n",
       "9        10       52      788           146            1    credit_card   \n",
       "\n",
       "            created_at  \n",
       "0  2017-03-13 12:36:56  \n",
       "1  2017-03-03 17:38:52  \n",
       "2   2017-03-14 4:23:56  \n",
       "3  2017-03-26 12:43:37  \n",
       "4   2017-03-01 4:35:11  \n",
       "5  2017-03-14 15:25:01  \n",
       "6  2017-03-01 21:37:57  \n",
       "7   2017-03-08 2:05:38  \n",
       "8  2017-03-17 20:56:50  \n",
       "9  2017-03-30 21:08:26  "
      ]
     },
     "execution_count": 3,
     "metadata": {},
     "output_type": "execute_result"
    }
   ],
   "source": [
    "# Viewing the dataset\n",
    "dataset.head(10)"
   ]
  },
  {
   "cell_type": "code",
   "execution_count": 4,
   "id": "07b59f17",
   "metadata": {},
   "outputs": [
    {
     "data": {
      "text/plain": [
       "(5000, 7)"
      ]
     },
     "execution_count": 4,
     "metadata": {},
     "output_type": "execute_result"
    }
   ],
   "source": [
    "# viewing the shape of the dataset\n",
    "dataset.shape"
   ]
  },
  {
   "cell_type": "code",
   "execution_count": 5,
   "id": "6f84a685",
   "metadata": {},
   "outputs": [
    {
     "data": {
      "text/plain": [
       "Index(['order_id', 'shop_id', 'user_id', 'order_amount', 'total_items',\n",
       "       'payment_method', 'created_at'],\n",
       "      dtype='object')"
      ]
     },
     "execution_count": 5,
     "metadata": {},
     "output_type": "execute_result"
    }
   ],
   "source": [
    "# viewing the columns of the dataset\n",
    "dataset.columns"
   ]
  },
  {
   "cell_type": "code",
   "execution_count": 6,
   "id": "e3edca65",
   "metadata": {},
   "outputs": [
    {
     "name": "stdout",
     "output_type": "stream",
     "text": [
      "<class 'pandas.core.frame.DataFrame'>\n",
      "RangeIndex: 5000 entries, 0 to 4999\n",
      "Data columns (total 7 columns):\n",
      " #   Column          Non-Null Count  Dtype \n",
      "---  ------          --------------  ----- \n",
      " 0   order_id        5000 non-null   int64 \n",
      " 1   shop_id         5000 non-null   int64 \n",
      " 2   user_id         5000 non-null   int64 \n",
      " 3   order_amount    5000 non-null   int64 \n",
      " 4   total_items     5000 non-null   int64 \n",
      " 5   payment_method  5000 non-null   object\n",
      " 6   created_at      5000 non-null   object\n",
      "dtypes: int64(5), object(2)\n",
      "memory usage: 273.6+ KB\n"
     ]
    }
   ],
   "source": [
    "# info of the dataset\n",
    "dataset.info()"
   ]
  },
  {
   "cell_type": "markdown",
   "id": "1cb06f36",
   "metadata": {},
   "source": [
    "### We have no null values in our dataset."
   ]
  },
  {
   "cell_type": "code",
   "execution_count": 7,
   "id": "811fe144",
   "metadata": {},
   "outputs": [
    {
     "data": {
      "text/html": [
       "<div>\n",
       "<style scoped>\n",
       "    .dataframe tbody tr th:only-of-type {\n",
       "        vertical-align: middle;\n",
       "    }\n",
       "\n",
       "    .dataframe tbody tr th {\n",
       "        vertical-align: top;\n",
       "    }\n",
       "\n",
       "    .dataframe thead th {\n",
       "        text-align: right;\n",
       "    }\n",
       "</style>\n",
       "<table border=\"1\" class=\"dataframe\">\n",
       "  <thead>\n",
       "    <tr style=\"text-align: right;\">\n",
       "      <th></th>\n",
       "      <th>order_id</th>\n",
       "      <th>shop_id</th>\n",
       "      <th>user_id</th>\n",
       "      <th>order_amount</th>\n",
       "      <th>total_items</th>\n",
       "    </tr>\n",
       "  </thead>\n",
       "  <tbody>\n",
       "    <tr>\n",
       "      <th>count</th>\n",
       "      <td>5000.000000</td>\n",
       "      <td>5000.000000</td>\n",
       "      <td>5000.000000</td>\n",
       "      <td>5000.000000</td>\n",
       "      <td>5000.00000</td>\n",
       "    </tr>\n",
       "    <tr>\n",
       "      <th>mean</th>\n",
       "      <td>2500.500000</td>\n",
       "      <td>50.078800</td>\n",
       "      <td>849.092400</td>\n",
       "      <td>3145.128000</td>\n",
       "      <td>8.78720</td>\n",
       "    </tr>\n",
       "    <tr>\n",
       "      <th>std</th>\n",
       "      <td>1443.520003</td>\n",
       "      <td>29.006118</td>\n",
       "      <td>87.798982</td>\n",
       "      <td>41282.539349</td>\n",
       "      <td>116.32032</td>\n",
       "    </tr>\n",
       "    <tr>\n",
       "      <th>min</th>\n",
       "      <td>1.000000</td>\n",
       "      <td>1.000000</td>\n",
       "      <td>607.000000</td>\n",
       "      <td>90.000000</td>\n",
       "      <td>1.00000</td>\n",
       "    </tr>\n",
       "    <tr>\n",
       "      <th>25%</th>\n",
       "      <td>1250.750000</td>\n",
       "      <td>24.000000</td>\n",
       "      <td>775.000000</td>\n",
       "      <td>163.000000</td>\n",
       "      <td>1.00000</td>\n",
       "    </tr>\n",
       "    <tr>\n",
       "      <th>50%</th>\n",
       "      <td>2500.500000</td>\n",
       "      <td>50.000000</td>\n",
       "      <td>849.000000</td>\n",
       "      <td>284.000000</td>\n",
       "      <td>2.00000</td>\n",
       "    </tr>\n",
       "    <tr>\n",
       "      <th>75%</th>\n",
       "      <td>3750.250000</td>\n",
       "      <td>75.000000</td>\n",
       "      <td>925.000000</td>\n",
       "      <td>390.000000</td>\n",
       "      <td>3.00000</td>\n",
       "    </tr>\n",
       "    <tr>\n",
       "      <th>max</th>\n",
       "      <td>5000.000000</td>\n",
       "      <td>100.000000</td>\n",
       "      <td>999.000000</td>\n",
       "      <td>704000.000000</td>\n",
       "      <td>2000.00000</td>\n",
       "    </tr>\n",
       "  </tbody>\n",
       "</table>\n",
       "</div>"
      ],
      "text/plain": [
       "          order_id      shop_id      user_id   order_amount  total_items\n",
       "count  5000.000000  5000.000000  5000.000000    5000.000000   5000.00000\n",
       "mean   2500.500000    50.078800   849.092400    3145.128000      8.78720\n",
       "std    1443.520003    29.006118    87.798982   41282.539349    116.32032\n",
       "min       1.000000     1.000000   607.000000      90.000000      1.00000\n",
       "25%    1250.750000    24.000000   775.000000     163.000000      1.00000\n",
       "50%    2500.500000    50.000000   849.000000     284.000000      2.00000\n",
       "75%    3750.250000    75.000000   925.000000     390.000000      3.00000\n",
       "max    5000.000000   100.000000   999.000000  704000.000000   2000.00000"
      ]
     },
     "execution_count": 7,
     "metadata": {},
     "output_type": "execute_result"
    }
   ],
   "source": [
    "# applying describe in the dataset\n",
    "dataset.describe()"
   ]
  },
  {
   "cell_type": "markdown",
   "id": "ac1d2f2a",
   "metadata": {},
   "source": [
    "## Here as per question AOV(Average Order Value) is $3145.13. And we need to find where the mistake is.\n"
   ]
  },
  {
   "cell_type": "markdown",
   "id": "8a438ea5",
   "metadata": {},
   "source": [
    "#### For Information: <i>AOV = (Total Revenue / Total Number of orders)\n",
    "    Let do our own calculation and see if the AOV is really $3145.13 or not."
   ]
  },
  {
   "cell_type": "code",
   "execution_count": 8,
   "id": "cc121116",
   "metadata": {},
   "outputs": [
    {
     "name": "stdout",
     "output_type": "stream",
     "text": [
      "So the AOV as per our general calculation is : $357.92.\n"
     ]
    }
   ],
   "source": [
    "# Calculation of AOV\n",
    "total_revenue = dataset['order_amount'].sum()\n",
    "total_orders = dataset['total_items'].sum()\n",
    "aov = total_revenue / total_orders\n",
    "print('So the AOV as per our general calculation is : ${0:.2f}.'.format(aov))"
   ]
  },
  {
   "cell_type": "markdown",
   "id": "914e9126",
   "metadata": {},
   "source": [
    "## AOV as per question is \\\\$3145.13 and as per general calculation it is \\\\$357.92. The reason for such a difference is : \n",
    "- while calculating AOV value, for total orders instead of taking actual total number of orders, the total count of rows under the total_orders columns must have been taken i.e, \n",
    "        - aov = total_revenue / dataset['order_amount'].count(), which will give us $3145.92 instead of $357.92"
   ]
  },
  {
   "cell_type": "code",
   "execution_count": 9,
   "id": "cc6be51c",
   "metadata": {},
   "outputs": [
    {
     "name": "stdout",
     "output_type": "stream",
     "text": [
      "AOV calculated is $357.92\n",
      "Standard Deviation calcuated is 13956.79\n"
     ]
    }
   ],
   "source": [
    "# finding Standard Deviation for our calculated AOV = $357.92\n",
    "def variance(data):\n",
    "    n = dataset['total_items'].sum()\n",
    "    mean = sum(data) / n\n",
    "    print('AOV calculated is ${0:.2f}'.format(mean))\n",
    "    deviations = [(x - mean) ** 2 for x in data]\n",
    "    variance = sum(deviations) / n\n",
    "    return variance\n",
    " \n",
    "def standard_deviation(data):\n",
    "    import math\n",
    "    var = variance(data)\n",
    "    std_dev = math.sqrt(var)\n",
    "    return std_dev\n",
    "print('Standard Deviation calcuated is {0:.2f}'.format(standard_deviation(dataset['order_amount'])))"
   ]
  },
  {
   "cell_type": "markdown",
   "id": "905e55e3",
   "metadata": {},
   "source": [
    "# However the AOV value of \\\\$357.92 is still not accurate.Why?\n",
    "- ### Because :\n",
    "    - if we analyse the descibe function results then we will see that there are a lot of discrepancies in the data that have increased the said AOV.\n",
    "    - the minimum value is \\\\$90 and the maximum value is \\\\$704000. The difference between the maximum and minimum values is huge for a sneaker selling shop.Some shops have sold only 1 whereas some have sold a lot such that the contribution from those shops alone is incredibly high and has affected the calculation of AOV value.\n",
    "    - the median value of \\\\$284 supports our above statement.\n",
    "    - the huge difference between (minimum and maximum) and (median and maximum) value shows that the there are some outliers in our data that is affecting our calculation.<br><br>\n",
    "    - the <b>Standard deviation</b> in the initial calculation is <b>41282.54</b> which is very large and signifies that on average , the values vary by 41,282.54 from the mean. This indicates that taking the mean for AOV as per the question is not correct.\n",
    "    - Our <b>calculated Standard Deviation</b> for a mean value of \\\\$357.92 is <b>13956.79</b> which is still a large value. This indicates that on average the values deviate by 13956.79 from the mean or AOV.\n",
    "## So our AOV of \\\\$357.92 is not accurrate and we need to consider some other methods that will eliminate the outliers."
   ]
  },
  {
   "cell_type": "markdown",
   "id": "c1d84782",
   "metadata": {},
   "source": [
    "- A better way to evaluate this dataset will be by using a method that is more robust to outliers, such as using the _**modal**_ value as AOV or the _**median of the dataset**_ or the _**median of the Interquartile Range**_ of the dataset (middle 50%).\n",
    "- ## Here I will consider the Interquartile range of the dataset to calculate the AOV.\n",
    "    This is because by considering this Interquartile range I will be able to avoid the outliers as this will drop the very high and very low values from being considered for calculation. Only those values that make up the middle 50% of the dataset will be taken under consideration."
   ]
  },
  {
   "cell_type": "code",
   "execution_count": 10,
   "id": "4b8beddd",
   "metadata": {},
   "outputs": [
    {
     "data": {
      "image/png": "[encoded data removed]",
      "text/plain": [
       "<Figure size 432x288 with 2 Axes>"
      ]
     },
     "metadata": {
      "needs_background": "light"
     },
     "output_type": "display_data"
    }
   ],
   "source": [
    "# using box plot to show the OUTLIERS\n",
    "fig, ax = plt.subplots(1, 2)\n",
    "ax[0].boxplot(dataset['order_amount'], showfliers=False)\n",
    "ax[0].set_title(\"No Outliers\")\n",
    "ax[0].get_xaxis().set_visible(False)\n",
    "ax[1].boxplot(dataset['order_amount'], showfliers=True)\n",
    "ax[1].set_title(\"Outliers\")\n",
    "ax[1].get_xaxis().set_visible(False)\n",
    "plt.suptitle('Order Amount')\n",
    "fig.tight_layout()\n",
    "plt.show()"
   ]
  },
  {
   "cell_type": "code",
   "execution_count": 11,
   "id": "e9151931",
   "metadata": {},
   "outputs": [
    {
     "name": "stdout",
     "output_type": "stream",
     "text": [
      "First Quartile Value of the dataset is : $163.00\n",
      "Second Quartile Value of the dataset is : $284.00\n",
      "Third Quartile Value of the dataset is : $390.00\n"
     ]
    }
   ],
   "source": [
    "# finding the quartile ranges\n",
    "Q1 = np.quantile(dataset['order_amount'], 0.25)\n",
    "Q2 = np.quantile(dataset['order_amount'], 0.50)\n",
    "Q3 = np.quantile(dataset['order_amount'], 0.75)\n",
    "print('First Quartile Value of the dataset is : ${0:.2f}'.format(Q1))\n",
    "print('Second Quartile Value of the dataset is : ${0:.2f}'.format(Q2))\n",
    "print('Third Quartile Value of the dataset is : ${0:.2f}'.format(Q3))"
   ]
  },
  {
   "cell_type": "code",
   "execution_count": 12,
   "id": "61fd2d9c",
   "metadata": {},
   "outputs": [
    {
     "name": "stdout",
     "output_type": "stream",
     "text": [
      "The Interquartile Range value of our dataset is of $227.00\n"
     ]
    }
   ],
   "source": [
    "# calculating the inter quartile range(IQR)\n",
    "IQR = Q3 - Q1\n",
    "print('The Interquartile Range value of our dataset is of ${0:.2f}'.format(IQR))"
   ]
  },
  {
   "cell_type": "code",
   "execution_count": 13,
   "id": "f1321799",
   "metadata": {},
   "outputs": [],
   "source": [
    "# removing the outliers\n",
    "lower_range = Q1 - 1.5*IQR # lowest range for new dataset\n",
    "upper_range = Q2 + 1.5*IQR # highest range for new dataset\n",
    "\n",
    "# observations that lie outside the lower_range and upper_range IQR region are removed\n",
    "df = dataset[(dataset['order_amount'] > lower_range) & (dataset['order_amount'] < upper_range)]"
   ]
  },
  {
   "cell_type": "markdown",
   "id": "481062c2",
   "metadata": {},
   "source": [
    "### In our dataset we saw that there are many who have palced multiple orders multiple times, so we can't take the mean or meadian value as AOV directly"
   ]
  },
  {
   "cell_type": "code",
   "execution_count": 14,
   "id": "3a907d13",
   "metadata": {},
   "outputs": [
    {
     "data": {
      "text/html": [
       "<div>\n",
       "<style scoped>\n",
       "    .dataframe tbody tr th:only-of-type {\n",
       "        vertical-align: middle;\n",
       "    }\n",
       "\n",
       "    .dataframe tbody tr th {\n",
       "        vertical-align: top;\n",
       "    }\n",
       "\n",
       "    .dataframe thead th {\n",
       "        text-align: right;\n",
       "    }\n",
       "</style>\n",
       "<table border=\"1\" class=\"dataframe\">\n",
       "  <thead>\n",
       "    <tr style=\"text-align: right;\">\n",
       "      <th></th>\n",
       "      <th>order_id</th>\n",
       "      <th>shop_id</th>\n",
       "      <th>user_id</th>\n",
       "      <th>order_amount</th>\n",
       "      <th>total_items</th>\n",
       "    </tr>\n",
       "  </thead>\n",
       "  <tbody>\n",
       "    <tr>\n",
       "      <th>count</th>\n",
       "      <td>4738.000000</td>\n",
       "      <td>4738.000000</td>\n",
       "      <td>4738.000000</td>\n",
       "      <td>4738.000000</td>\n",
       "      <td>4738.00000</td>\n",
       "    </tr>\n",
       "    <tr>\n",
       "      <th>mean</th>\n",
       "      <td>2500.866399</td>\n",
       "      <td>49.770367</td>\n",
       "      <td>850.325876</td>\n",
       "      <td>283.814268</td>\n",
       "      <td>1.89848</td>\n",
       "    </tr>\n",
       "    <tr>\n",
       "      <th>std</th>\n",
       "      <td>1444.266056</td>\n",
       "      <td>29.149727</td>\n",
       "      <td>86.802461</td>\n",
       "      <td>132.061996</td>\n",
       "      <td>0.86278</td>\n",
       "    </tr>\n",
       "    <tr>\n",
       "      <th>min</th>\n",
       "      <td>1.000000</td>\n",
       "      <td>1.000000</td>\n",
       "      <td>700.000000</td>\n",
       "      <td>90.000000</td>\n",
       "      <td>1.00000</td>\n",
       "    </tr>\n",
       "    <tr>\n",
       "      <th>25%</th>\n",
       "      <td>1247.250000</td>\n",
       "      <td>24.000000</td>\n",
       "      <td>776.000000</td>\n",
       "      <td>161.000000</td>\n",
       "      <td>1.00000</td>\n",
       "    </tr>\n",
       "    <tr>\n",
       "      <th>50%</th>\n",
       "      <td>2502.500000</td>\n",
       "      <td>50.000000</td>\n",
       "      <td>851.000000</td>\n",
       "      <td>272.000000</td>\n",
       "      <td>2.00000</td>\n",
       "    </tr>\n",
       "    <tr>\n",
       "      <th>75%</th>\n",
       "      <td>3755.750000</td>\n",
       "      <td>74.000000</td>\n",
       "      <td>926.000000</td>\n",
       "      <td>362.000000</td>\n",
       "      <td>2.00000</td>\n",
       "    </tr>\n",
       "    <tr>\n",
       "      <th>max</th>\n",
       "      <td>5000.000000</td>\n",
       "      <td>100.000000</td>\n",
       "      <td>999.000000</td>\n",
       "      <td>624.000000</td>\n",
       "      <td>5.00000</td>\n",
       "    </tr>\n",
       "  </tbody>\n",
       "</table>\n",
       "</div>"
      ],
      "text/plain": [
       "          order_id      shop_id      user_id  order_amount  total_items\n",
       "count  4738.000000  4738.000000  4738.000000   4738.000000   4738.00000\n",
       "mean   2500.866399    49.770367   850.325876    283.814268      1.89848\n",
       "std    1444.266056    29.149727    86.802461    132.061996      0.86278\n",
       "min       1.000000     1.000000   700.000000     90.000000      1.00000\n",
       "25%    1247.250000    24.000000   776.000000    161.000000      1.00000\n",
       "50%    2502.500000    50.000000   851.000000    272.000000      2.00000\n",
       "75%    3755.750000    74.000000   926.000000    362.000000      2.00000\n",
       "max    5000.000000   100.000000   999.000000    624.000000      5.00000"
      ]
     },
     "execution_count": 14,
     "metadata": {},
     "output_type": "execute_result"
    }
   ],
   "source": [
    "# applying describe method on the dataset\n",
    "df.describe()"
   ]
  },
  {
   "cell_type": "markdown",
   "id": "5602ecae",
   "metadata": {},
   "source": [
    "### Getting the AOV(Average Order Value)\n",
    "\n",
    "#### We know that the **Average Order Value (AOV)** is calculated by dividing the ***total revenue*** by the ***number of orders placed***.\n",
    "        \n",
    "- AOV = Total Revenue / Total Orders Placed\n",
    "        \n"
   ]
  },
  {
   "cell_type": "code",
   "execution_count": 15,
   "id": "11bbd357",
   "metadata": {},
   "outputs": [
    {
     "name": "stdout",
     "output_type": "stream",
     "text": [
      "\u001b[1mThe actual Average Order Value\u001b[1m or \u001b[1mAOV\u001b[1m is : \u001b[1m$ 149.5\n"
     ]
    }
   ],
   "source": [
    "# printing the AOV\n",
    "df_total_revenue = df['order_amount'].sum()\n",
    "df_total_order_placed = df['total_items'].sum()\n",
    "\n",
    "actual_AOV = df_total_revenue / df_total_order_placed\n",
    "print('\\033[1mThe actual Average Order Value\\033[1m or \\033[1mAOV\\033[1m is : \\033[1m$', round(actual_AOV, 2))"
   ]
  },
  {
   "cell_type": "markdown",
   "id": "5836f3cb",
   "metadata": {},
   "source": [
    "# ------------------------------------------------------------------------------------------------------------"
   ]
  },
  {
   "cell_type": "markdown",
   "id": "470e77d9",
   "metadata": {},
   "source": [
    "# Answers to the Questioned asked :"
   ]
  },
  {
   "cell_type": "markdown",
   "id": "161ee6b1",
   "metadata": {},
   "source": [
    "----"
   ]
  },
  {
   "cell_type": "markdown",
   "id": "34661141",
   "metadata": {},
   "source": [
    "# 1. Think about what could be going wrong with our calculation. Think about a better way to evaluate this data."
   ]
  },
  {
   "cell_type": "markdown",
   "id": "5a25f7ba",
   "metadata": {},
   "source": [
    "<b>=>> While calculating AOV value, for total orders instead of taking actual total number of orders, the total count of rows under the total_orders columns must have been taken i.e,\n",
    "  - aov = total_revenue / dataset['order_amount'].count(), which will give us $3145.92.\n",
    "  \n",
    "=>> If we analyse the descibe function results then we will see that there are a lot of discrepancies in the data that have increased the said AOV.\n",
    "\n",
    "<b>=>> The minimum value is \\\\$90 and the maximum value is $704000. The difference between the maximum and minimum values is huge for a sneaker selling shop. Some shops have sold only 1 whereas some have sold a lot such that the contribution from those shops alone is incredibly high and has affected the calculation of AOV value.\n",
    "\n",
    "=>> The median value of $284 supports our above statement.\n",
    "\n",
    "=>> The huge difference between (minimum and maximum) and (median and maximum) value shows that the there are some outliers in our data that is affecting our calculation.\n",
    "\n",
    "<b>=>> The Standard deviation in the initial calculation is 41282.54 which is very large and signifies that on average , the values vary by 41,282.54 from the mean. This indicates that taking the mean for AOV as per the question is not correct.\n",
    "\n",
    "=>> Our generally calculated Standard Deviation for a mean value of $357.92 is 13956.79 which is still a large value. This indicates that on average the values deviate by 13956.79 from the mean or AOV.\n",
    "\n",
    "=>> So our AOV of $357.92 is also not accurrate and we need to consider some other methods that will eliminate the outliers.\n",
    "\n",
    "\n",
    "<b>=>> A better way to evaluate this dataset will be by using a method that is more robust to outliers, such as using the modal value as AOV or the median of the dataset or the median of the Interquartile Range of the dataset (middle 50%). However as there are multiple orders of the same item palced by some buyers we will use mean but of the Interquartile Range dataset."
   ]
  },
  {
   "cell_type": "markdown",
   "id": "669934ed",
   "metadata": {},
   "source": [
    "-----"
   ]
  },
  {
   "cell_type": "markdown",
   "id": "33972a7f",
   "metadata": {},
   "source": [
    "# 2. What metric would you report for this dataset?"
   ]
  },
  {
   "cell_type": "markdown",
   "id": "e6342ff2",
   "metadata": {},
   "source": [
    "<b>=>> Here I will consider the Interquartile range of the dataset to calculate the AOV. This is because by considering this Interquartile range I will be able to avoid the outliers as this will drop the very high and very low values from being considered for calculation. Only those values that make up the middle 50% of the dataset will be taken under consideration.\n",
    "\n",
    "<b>=>> And finally I will calculate the AOV based on the new Interquartile Range dataset by the fomula metioned above i.e.</b>\n",
    " - AOV = Total Revenue / Total Orders Placed"
   ]
  },
  {
   "cell_type": "markdown",
   "id": "801d9f13",
   "metadata": {},
   "source": [
    "----"
   ]
  },
  {
   "cell_type": "markdown",
   "id": "260a0ec0",
   "metadata": {},
   "source": [
    "# 3. What is its value?"
   ]
  },
  {
   "cell_type": "markdown",
   "id": "7fc44417",
   "metadata": {},
   "source": [
    "<b>=>> The new calculated _Average Order Value (AOV)_ is $149.5 \n"
   ]
  },
  {
   "cell_type": "code",
   "execution_count": null,
   "id": "07fa2ec5",
   "metadata": {},
   "outputs": [],
   "source": []
  }
 ],
 "metadata": {
  "kernelspec": {
   "display_name": "Python 3 (ipykernel)",
   "language": "python",
   "name": "python3"
  },
  "language_info": {
   "codemirror_mode": {
    "name": "ipython",
    "version": 3
   },
   "file_extension": ".py",
   "mimetype": "text/x-python",
   "name": "python",
   "nbconvert_exporter": "python",
   "pygments_lexer": "ipython3",
   "version": "3.8.8"
  }
 },
 "nbformat": 4,
 "nbformat_minor": 5
}
